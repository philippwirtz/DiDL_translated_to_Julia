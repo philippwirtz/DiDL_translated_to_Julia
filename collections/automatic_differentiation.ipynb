{
 "cells": [
  {
   "cell_type": "code",
   "execution_count": 34,
   "metadata": {},
   "outputs": [],
   "source": [
    "using Flux\n",
    "using Zygote\n",
    "using LinearAlgebra\n",
    "using Distributions\n",
    "using Statistics\n"
   ]
  },
  {
   "cell_type": "code",
   "execution_count": 14,
   "metadata": {},
   "outputs": [
    {
     "data": {
      "text/plain": [
       "true"
      ]
     },
     "execution_count": 14,
     "metadata": {},
     "output_type": "execute_result"
    }
   ],
   "source": [
    "x = 0:3\n",
    "\n",
    "f(x) = 2 * dot(x,x)\n",
    "\n",
    "y = gradient(f, x)[1]\n",
    "\n",
    "y == 4 * x"
   ]
  },
  {
   "cell_type": "code",
   "execution_count": 4,
   "metadata": {},
   "outputs": [
    {
     "data": {
      "text/plain": [
       "4-element Vector{Float64}:\n",
       " 1.0\n",
       " 1.0\n",
       " 1.0\n",
       " 1.0"
      ]
     },
     "execution_count": 4,
     "metadata": {},
     "output_type": "execute_result"
    }
   ],
   "source": [
    "z(x) = sum(x)\n",
    "\n",
    "gradient(z, x)[1]"
   ]
  },
  {
   "cell_type": "code",
   "execution_count": 22,
   "metadata": {},
   "outputs": [
    {
     "data": {
      "text/plain": [
       "4×1 Matrix{Int64}:\n",
       " 0\n",
       " 2\n",
       " 4\n",
       " 6"
      ]
     },
     "execution_count": 22,
     "metadata": {},
     "output_type": "execute_result"
    }
   ],
   "source": [
    "n(x) = x .* x\n",
    "sum(jacobian(n, x)[1], dims=2)"
   ]
  },
  {
   "cell_type": "markdown",
   "metadata": {},
   "source": [
    "### 2.5.3 Detaching Computation\n",
    "\n",
    "missing"
   ]
  },
  {
   "cell_type": "markdown",
   "metadata": {},
   "source": [
    "### 2.5.4 Computing the Gradient of Python Control Flow"
   ]
  },
  {
   "cell_type": "code",
   "execution_count": 56,
   "metadata": {},
   "outputs": [
    {
     "data": {
      "text/plain": [
       "f (generic function with 1 method)"
      ]
     },
     "execution_count": 56,
     "metadata": {},
     "output_type": "execute_result"
    }
   ],
   "source": [
    "function f(a)\n",
    "    b = a * 2\n",
    "\n",
    "    while norm(b) < 1000\n",
    "        b = b * 2\n",
    "    end\n",
    "    if sum(b) > 0\n",
    "        c = b\n",
    "    else\n",
    "        c = 100 * b\n",
    "    end\n",
    "    return c\n",
    "end\n"
   ]
  },
  {
   "cell_type": "code",
   "execution_count": 74,
   "metadata": {},
   "outputs": [
    {
     "ename": "LoadError",
     "evalue": "MethodError: objects of type Vector{Vector{Float64}} are not callable\nUse square brackets [] for indexing an Array.",
     "output_type": "error",
     "traceback": [
      "MethodError: objects of type Vector{Vector{Float64}} are not callable\nUse square brackets [] for indexing an Array.",
      "",
      "Stacktrace:",
      " [1] macro expansion",
      "   @ C:\\Users\\PhilippWirtz\\.julia\\packages\\Zygote\\H6vD3\\src\\compiler\\interface2.jl:0 [inlined]",
      " [2] _pullback(ctx::Zygote.Context, f::Vector{Vector{Float64}}, args::Vector{Float64})",
      "   @ Zygote C:\\Users\\PhilippWirtz\\.julia\\packages\\Zygote\\H6vD3\\src\\compiler\\interface2.jl:9",
      " [3] _pullback(f::Vector{Vector{Float64}}, args::Vector{Float64})",
      "   @ Zygote C:\\Users\\PhilippWirtz\\.julia\\packages\\Zygote\\H6vD3\\src\\compiler\\interface.jl:34",
      " [4] pullback(f::Vector{Vector{Float64}}, args::Vector{Float64})",
      "   @ Zygote C:\\Users\\PhilippWirtz\\.julia\\packages\\Zygote\\H6vD3\\src\\compiler\\interface.jl:40",
      " [5] gradient(f::Vector{Vector{Float64}}, args::Vector{Float64})",
      "   @ Zygote C:\\Users\\PhilippWirtz\\.julia\\packages\\Zygote\\H6vD3\\src\\compiler\\interface.jl:75",
      " [6] top-level scope",
      "   @ In[74]:5",
      " [7] eval",
      "   @ .\\boot.jl:373 [inlined]",
      " [8] include_string(mapexpr::typeof(REPL.softscope), mod::Module, code::String, filename::String)",
      "   @ Base .\\loading.jl:1196"
     ]
    }
   ],
   "source": [
    "a = rand(Normal(1, 2), 100)"
   ]
  },
  {
   "cell_type": "code",
   "execution_count": null,
   "metadata": {},
   "outputs": [],
   "source": []
  }
 ],
 "metadata": {
  "kernelspec": {
   "display_name": "Julia 1.7.1",
   "language": "julia",
   "name": "julia-1.7"
  },
  "language_info": {
   "file_extension": ".jl",
   "mimetype": "application/julia",
   "name": "julia",
   "version": "1.7.1"
  },
  "orig_nbformat": 4
 },
 "nbformat": 4,
 "nbformat_minor": 2
}
