{
 "cells": [
  {
   "cell_type": "code",
   "execution_count": 130,
   "metadata": {},
   "outputs": [],
   "source": [
    "using DataFrames\n",
    "using CSV\n",
    "using Statistics\n",
    "using MLJ"
   ]
  },
  {
   "cell_type": "code",
   "execution_count": 114,
   "metadata": {},
   "outputs": [],
   "source": [
    "open(\"house_tiny.csv\", \"w\") do io\n",
    "    print(io, \"NumRooms,Alley,Price\\n\")\n",
    "    print(io, \",Pave, 127500 \\n\")\n",
    "    print(io, \"2,,106000\\n\")\n",
    "    print(io, \"4,,178100\\n\")\n",
    "    print(io, \",,140000\\n\")\n",
    "end"
   ]
  },
  {
   "cell_type": "code",
   "execution_count": 131,
   "metadata": {},
   "outputs": [
    {
     "data": {
      "text/plain": [
       "┌──────────┬─────────────────────────┬─────────────────────────┐\n",
       "│\u001b[22m names    \u001b[0m│\u001b[22m scitypes                \u001b[0m│\u001b[22m types                   \u001b[0m│\n",
       "├──────────┼─────────────────────────┼─────────────────────────┤\n",
       "│ NumRooms │ Union{Missing, Count}   │ Union{Missing, Int64}   │\n",
       "│ Alley    │ Union{Missing, Textual} │ Union{Missing, String7} │\n",
       "│ Price    │ Count                   │ Int64                   │\n",
       "└──────────┴─────────────────────────┴─────────────────────────┘\n"
      ]
     },
     "execution_count": 131,
     "metadata": {},
     "output_type": "execute_result"
    }
   ],
   "source": [
    "data = DataFrame(CSV.File(\"house_tiny.csv\"))\n",
    "schema(data)"
   ]
  },
  {
   "cell_type": "markdown",
   "metadata": {},
   "source": [
    "### Handling missing data"
   ]
  },
  {
   "cell_type": "code",
   "execution_count": 145,
   "metadata": {},
   "outputs": [
    {
     "data": {
      "text/html": [
       "<div class=\"data-frame\"><p>4 rows × 2 columns</p><table class=\"data-frame\"><thead><tr><th></th><th>NumRooms</th><th>Alley</th></tr><tr><th></th><th title=\"Union{Missing, Int64}\">Int64?</th><th title=\"Union{Missing, String7}\">String7?</th></tr></thead><tbody><tr><th>1</th><td>3</td><td>Pave</td></tr><tr><th>2</th><td>2</td><td><em>missing</em></td></tr><tr><th>3</th><td>4</td><td><em>missing</em></td></tr><tr><th>4</th><td>3</td><td><em>missing</em></td></tr></tbody></table></div>"
      ],
      "text/latex": [
       "\\begin{tabular}{r|cc}\n",
       "\t& NumRooms & Alley\\\\\n",
       "\t\\hline\n",
       "\t& Int64? & String7?\\\\\n",
       "\t\\hline\n",
       "\t1 & 3 & Pave \\\\\n",
       "\t2 & 2 & \\emph{missing} \\\\\n",
       "\t3 & 4 & \\emph{missing} \\\\\n",
       "\t4 & 3 & \\emph{missing} \\\\\n",
       "\\end{tabular}\n"
      ],
      "text/plain": [
       "\u001b[1m4×2 DataFrame\u001b[0m\n",
       "\u001b[1m Row \u001b[0m│\u001b[1m NumRooms \u001b[0m\u001b[1m Alley    \u001b[0m\n",
       "\u001b[1m     \u001b[0m│\u001b[90m Int64?   \u001b[0m\u001b[90m String7? \u001b[0m\n",
       "─────┼────────────────────\n",
       "   1 │        3  Pave\n",
       "   2 │        2 \u001b[90m missing  \u001b[0m\n",
       "   3 │        4 \u001b[90m missing  \u001b[0m\n",
       "   4 │        3 \u001b[90m missing  \u001b[0m"
      ]
     },
     "execution_count": 145,
     "metadata": {},
     "output_type": "execute_result"
    }
   ],
   "source": [
    "inputs, outputs = data[:, 1:2], data[:, end]\n",
    "allowmissing!(inputs)\n",
    "\n",
    "inputs[:, :NumRooms] = replace!(inputs[:, :NumRooms], missing => mean(skipmissing(inputs[:, :NumRooms])))\n",
    "inputs"
   ]
  },
  {
   "cell_type": "code",
   "execution_count": 147,
   "metadata": {},
   "outputs": [
    {
     "ename": "LoadError",
     "evalue": "MethodError: no method matching parse(::Type{Int64}, ::Vector{Union{Missing, String7}})\n\u001b[0mClosest candidates are:\n\u001b[0m  parse(::Type{T}, \u001b[91m::AbstractChar\u001b[39m; base) where T<:Integer at C:\\Users\\PhilippWirtz\\AppData\\Local\\Programs\\Julia-1.7.1\\share\\julia\\base\\parse.jl:40\n\u001b[0m  parse(::Type{T}, \u001b[91m::AbstractString\u001b[39m; base) where T<:Integer at C:\\Users\\PhilippWirtz\\AppData\\Local\\Programs\\Julia-1.7.1\\share\\julia\\base\\parse.jl:240\n\u001b[0m  parse(::Type{T}, \u001b[91m::AbstractString\u001b[39m; kwargs...) where T<:Real at C:\\Users\\PhilippWirtz\\AppData\\Local\\Programs\\Julia-1.7.1\\share\\julia\\base\\parse.jl:379",
     "output_type": "error",
     "traceback": [
      "MethodError: no method matching parse(::Type{Int64}, ::Vector{Union{Missing, String7}})\n\u001b[0mClosest candidates are:\n\u001b[0m  parse(::Type{T}, \u001b[91m::AbstractChar\u001b[39m; base) where T<:Integer at C:\\Users\\PhilippWirtz\\AppData\\Local\\Programs\\Julia-1.7.1\\share\\julia\\base\\parse.jl:40\n\u001b[0m  parse(::Type{T}, \u001b[91m::AbstractString\u001b[39m; base) where T<:Integer at C:\\Users\\PhilippWirtz\\AppData\\Local\\Programs\\Julia-1.7.1\\share\\julia\\base\\parse.jl:240\n\u001b[0m  parse(::Type{T}, \u001b[91m::AbstractString\u001b[39m; kwargs...) where T<:Real at C:\\Users\\PhilippWirtz\\AppData\\Local\\Programs\\Julia-1.7.1\\share\\julia\\base\\parse.jl:379",
      "",
      "Stacktrace:",
      " [1] top-level scope",
      "   @ In[147]:3",
      " [2] eval",
      "   @ .\\boot.jl:373 [inlined]",
      " [3] include_string(mapexpr::typeof(REPL.softscope), mod::Module, code::String, filename::String)",
      "   @ Base .\\loading.jl:1196"
     ]
    }
   ],
   "source": [
    "inputs[:, :Alley_nan] = [0, 1, 1, 1]\n",
    "rename!(inputs, :Alley => :Alley_pave)\n",
    "inputs[!, :Alley_pave] = parse(Int64, inputs[:, :Alley_pave])"
   ]
  },
  {
   "cell_type": "code",
   "execution_count": 143,
   "metadata": {},
   "outputs": [
    {
     "data": {
      "text/plain": [
       "┌────────────┬─────────────────────────┬─────────────────────────┐\n",
       "│\u001b[22m names      \u001b[0m│\u001b[22m scitypes                \u001b[0m│\u001b[22m types                   \u001b[0m│\n",
       "├────────────┼─────────────────────────┼─────────────────────────┤\n",
       "│ NumRooms   │ Union{Missing, Count}   │ Union{Missing, Int64}   │\n",
       "│ Alley_pave │ Union{Missing, Textual} │ Union{Missing, String7} │\n",
       "│ Alley_nan  │ Count                   │ Int64                   │\n",
       "└────────────┴─────────────────────────┴─────────────────────────┘\n"
      ]
     },
     "execution_count": 143,
     "metadata": {},
     "output_type": "execute_result"
    }
   ],
   "source": []
  },
  {
   "cell_type": "code",
   "execution_count": null,
   "metadata": {},
   "outputs": [],
   "source": []
  }
 ],
 "metadata": {
  "kernelspec": {
   "display_name": "Julia 1.7.1",
   "language": "julia",
   "name": "julia-1.7"
  },
  "language_info": {
   "file_extension": ".jl",
   "mimetype": "application/julia",
   "name": "julia",
   "version": "1.7.1"
  },
  "orig_nbformat": 4
 },
 "nbformat": 4,
 "nbformat_minor": 2
}
