{
 "cells": [
  {
   "cell_type": "code",
   "execution_count": 130,
   "metadata": {},
   "outputs": [],
   "source": [
    "using DataFrames\n",
    "using CSV\n",
    "using Statistics\n",
    "using MLJ"
   ]
  },
  {
   "cell_type": "code",
   "execution_count": 114,
   "metadata": {},
   "outputs": [],
   "source": [
    "open(\"house_tiny.csv\", \"w\") do io\n",
    "    print(io, \"NumRooms,Alley,Price\\n\")\n",
    "    print(io, \",Pave, 127500 \\n\")\n",
    "    print(io, \"2,,106000\\n\")\n",
    "    print(io, \"4,,178100\\n\")\n",
    "    print(io, \",,140000\\n\")\n",
    "end"
   ]
  },
  {
   "cell_type": "code",
   "execution_count": 131,
   "metadata": {},
   "outputs": [
    {
     "data": {
      "text/plain": [
       "┌──────────┬─────────────────────────┬─────────────────────────┐\n",
       "│\u001b[22m names    \u001b[0m│\u001b[22m scitypes                \u001b[0m│\u001b[22m types                   \u001b[0m│\n",
       "├──────────┼─────────────────────────┼─────────────────────────┤\n",
       "│ NumRooms │ Union{Missing, Count}   │ Union{Missing, Int64}   │\n",
       "│ Alley    │ Union{Missing, Textual} │ Union{Missing, String7} │\n",
       "│ Price    │ Count                   │ Int64                   │\n",
       "└──────────┴─────────────────────────┴─────────────────────────┘\n"
      ]
     },
     "execution_count": 131,
     "metadata": {},
     "output_type": "execute_result"
    }
   ],
   "source": [
    "data = DataFrame(CSV.File(\"house_tiny.csv\"))"
   ]
  },
  {
   "cell_type": "markdown",
   "metadata": {},
   "source": [
    "### Handling missing data"
   ]
  },
  {
   "cell_type": "code",
   "execution_count": 170,
   "metadata": {},
   "outputs": [
    {
     "data": {
      "text/html": [
       "<div class=\"data-frame\"><p>4 rows × 2 columns</p><table class=\"data-frame\"><thead><tr><th></th><th>NumRooms</th><th>Alley</th></tr><tr><th></th><th title=\"Union{Missing, Int64}\">Int64?</th><th title=\"Union{Missing, String7}\">String7?</th></tr></thead><tbody><tr><th>1</th><td>3</td><td>Pave</td></tr><tr><th>2</th><td>2</td><td><em>missing</em></td></tr><tr><th>3</th><td>4</td><td><em>missing</em></td></tr><tr><th>4</th><td>3</td><td><em>missing</em></td></tr></tbody></table></div>"
      ],
      "text/latex": [
       "\\begin{tabular}{r|cc}\n",
       "\t& NumRooms & Alley\\\\\n",
       "\t\\hline\n",
       "\t& Int64? & String7?\\\\\n",
       "\t\\hline\n",
       "\t1 & 3 & Pave \\\\\n",
       "\t2 & 2 & \\emph{missing} \\\\\n",
       "\t3 & 4 & \\emph{missing} \\\\\n",
       "\t4 & 3 & \\emph{missing} \\\\\n",
       "\\end{tabular}\n"
      ],
      "text/plain": [
       "\u001b[1m4×2 DataFrame\u001b[0m\n",
       "\u001b[1m Row \u001b[0m│\u001b[1m NumRooms \u001b[0m\u001b[1m Alley    \u001b[0m\n",
       "\u001b[1m     \u001b[0m│\u001b[90m Int64?   \u001b[0m\u001b[90m String7? \u001b[0m\n",
       "─────┼────────────────────\n",
       "   1 │        3  Pave\n",
       "   2 │        2 \u001b[90m missing  \u001b[0m\n",
       "   3 │        4 \u001b[90m missing  \u001b[0m\n",
       "   4 │        3 \u001b[90m missing  \u001b[0m"
      ]
     },
     "execution_count": 170,
     "metadata": {},
     "output_type": "execute_result"
    }
   ],
   "source": [
    "inputs, outputs = data[:, 1:2], data[:, end]\n",
    "allowmissing!(inputs)\n",
    "\n",
    "inputs[:, :NumRooms] = replace!(inputs[:, :NumRooms], missing => mean(skipmissing(inputs[:, :NumRooms])))\n",
    "inputs"
   ]
  },
  {
   "cell_type": "code",
   "execution_count": 171,
   "metadata": {},
   "outputs": [
    {
     "data": {
      "text/html": [
       "<div class=\"data-frame\"><p>4 rows × 3 columns</p><table class=\"data-frame\"><thead><tr><th></th><th>NumRooms</th><th>Alley_pave</th><th>Alley_nan</th></tr><tr><th></th><th title=\"Union{Missing, Int64}\">Int64?</th><th title=\"Union{Missing, String7}\">String7?</th><th title=\"Int64\">Int64</th></tr></thead><tbody><tr><th>1</th><td>3</td><td>1</td><td>0</td></tr><tr><th>2</th><td>2</td><td><em>missing</em></td><td>1</td></tr><tr><th>3</th><td>4</td><td><em>missing</em></td><td>1</td></tr><tr><th>4</th><td>3</td><td><em>missing</em></td><td>1</td></tr></tbody></table></div>"
      ],
      "text/latex": [
       "\\begin{tabular}{r|ccc}\n",
       "\t& NumRooms & Alley\\_pave & Alley\\_nan\\\\\n",
       "\t\\hline\n",
       "\t& Int64? & String7? & Int64\\\\\n",
       "\t\\hline\n",
       "\t1 & 3 & 1 & 0 \\\\\n",
       "\t2 & 2 & \\emph{missing} & 1 \\\\\n",
       "\t3 & 4 & \\emph{missing} & 1 \\\\\n",
       "\t4 & 3 & \\emph{missing} & 1 \\\\\n",
       "\\end{tabular}\n"
      ],
      "text/plain": [
       "\u001b[1m4×3 DataFrame\u001b[0m\n",
       "\u001b[1m Row \u001b[0m│\u001b[1m NumRooms \u001b[0m\u001b[1m Alley_pave \u001b[0m\u001b[1m Alley_nan \u001b[0m\n",
       "\u001b[1m     \u001b[0m│\u001b[90m Int64?   \u001b[0m\u001b[90m String7?   \u001b[0m\u001b[90m Int64     \u001b[0m\n",
       "─────┼─────────────────────────────────\n",
       "   1 │        3  1                   0\n",
       "   2 │        2 \u001b[90m missing    \u001b[0m         1\n",
       "   3 │        4 \u001b[90m missing    \u001b[0m         1\n",
       "   4 │        3 \u001b[90m missing    \u001b[0m         1"
      ]
     },
     "execution_count": 171,
     "metadata": {},
     "output_type": "execute_result"
    }
   ],
   "source": [
    "inputs[:, :Alley_nan] = [0, 1, 1, 1]\n",
    "rename!(inputs, :Alley => :Alley_pave)\n",
    "inputs[:, :Alley_pave] = replace!(inputs[:, :Alley_pave], \"Pave\" => \"1\")\n",
    "inputs"
   ]
  },
  {
   "cell_type": "markdown",
   "metadata": {},
   "source": [
    "### Workaround to create the tensor format without pd.get_dummies()\n",
    "\n",
    "The only workaround I found is to add a new column with a numerical type manually. String7 cannot be converted to any form of Integer, so one has to find the corresponding column manually."
   ]
  },
  {
   "cell_type": "code",
   "execution_count": 172,
   "metadata": {},
   "outputs": [
    {
     "data": {
      "text/plain": [
       "4-element Vector{Int64}:\n",
       " 1\n",
       " 0\n",
       " 0\n",
       " 0"
      ]
     },
     "execution_count": 172,
     "metadata": {},
     "output_type": "execute_result"
    }
   ],
   "source": [
    "inputs[:, :Alley_pave_bool] =  [1, 0, 0, 0]"
   ]
  },
  {
   "cell_type": "code",
   "execution_count": 173,
   "metadata": {},
   "outputs": [
    {
     "data": {
      "text/html": [
       "<div class=\"data-frame\"><p>4 rows × 3 columns</p><table class=\"data-frame\"><thead><tr><th></th><th>NumRooms</th><th>Alley_nan</th><th>Alley_pave_bool</th></tr><tr><th></th><th title=\"Union{Missing, Int64}\">Int64?</th><th title=\"Int64\">Int64</th><th title=\"Int64\">Int64</th></tr></thead><tbody><tr><th>1</th><td>3</td><td>0</td><td>1</td></tr><tr><th>2</th><td>2</td><td>1</td><td>0</td></tr><tr><th>3</th><td>4</td><td>1</td><td>0</td></tr><tr><th>4</th><td>3</td><td>1</td><td>0</td></tr></tbody></table></div>"
      ],
      "text/latex": [
       "\\begin{tabular}{r|ccc}\n",
       "\t& NumRooms & Alley\\_nan & Alley\\_pave\\_bool\\\\\n",
       "\t\\hline\n",
       "\t& Int64? & Int64 & Int64\\\\\n",
       "\t\\hline\n",
       "\t1 & 3 & 0 & 1 \\\\\n",
       "\t2 & 2 & 1 & 0 \\\\\n",
       "\t3 & 4 & 1 & 0 \\\\\n",
       "\t4 & 3 & 1 & 0 \\\\\n",
       "\\end{tabular}\n"
      ],
      "text/plain": [
       "\u001b[1m4×3 DataFrame\u001b[0m\n",
       "\u001b[1m Row \u001b[0m│\u001b[1m NumRooms \u001b[0m\u001b[1m Alley_nan \u001b[0m\u001b[1m Alley_pave_bool \u001b[0m\n",
       "\u001b[1m     \u001b[0m│\u001b[90m Int64?   \u001b[0m\u001b[90m Int64     \u001b[0m\u001b[90m Int64           \u001b[0m\n",
       "─────┼──────────────────────────────────────\n",
       "   1 │        3          0                1\n",
       "   2 │        2          1                0\n",
       "   3 │        4          1                0\n",
       "   4 │        3          1                0"
      ]
     },
     "execution_count": 173,
     "metadata": {},
     "output_type": "execute_result"
    }
   ],
   "source": [
    "inputs = select!(inputs, Not(:Alley_pave)) # this is how you delet a column by name!\n",
    "inputs"
   ]
  },
  {
   "cell_type": "code",
   "execution_count": 184,
   "metadata": {},
   "outputs": [
    {
     "data": {
      "text/plain": [
       "4-element Vector{Int64}:\n",
       " 127500\n",
       " 106000\n",
       " 178100\n",
       " 140000"
      ]
     },
     "execution_count": 184,
     "metadata": {},
     "output_type": "execute_result"
    }
   ],
   "source": [
    "inputs2 = Matrix(inputs)\n",
    "outputs # already a Vector"
   ]
  },
  {
   "cell_type": "code",
   "execution_count": null,
   "metadata": {},
   "outputs": [],
   "source": []
  }
 ],
 "metadata": {
  "kernelspec": {
   "display_name": "Julia 1.7.1",
   "language": "julia",
   "name": "julia-1.7"
  },
  "language_info": {
   "file_extension": ".jl",
   "mimetype": "application/julia",
   "name": "julia",
   "version": "1.7.1"
  },
  "orig_nbformat": 4
 },
 "nbformat": 4,
 "nbformat_minor": 2
}
