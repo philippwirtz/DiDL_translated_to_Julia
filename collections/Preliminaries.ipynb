{
 "cells": [
  {
   "cell_type": "code",
   "execution_count": 3,
   "metadata": {},
   "outputs": [
    {
     "data": {
      "text/plain": [
       "12-element Vector{Int64}:\n",
       "  0\n",
       "  1\n",
       "  2\n",
       "  3\n",
       "  4\n",
       "  5\n",
       "  6\n",
       "  7\n",
       "  8\n",
       "  9\n",
       " 10\n",
       " 11"
      ]
     },
     "execution_count": 3,
     "metadata": {},
     "output_type": "execute_result"
    }
   ],
   "source": [
    "x = Int64[0:11;]"
   ]
  },
  {
   "cell_type": "code",
   "execution_count": 4,
   "metadata": {},
   "outputs": [
    {
     "data": {
      "text/plain": [
       "(12,)"
      ]
     },
     "execution_count": 4,
     "metadata": {},
     "output_type": "execute_result"
    }
   ],
   "source": [
    "size(x)"
   ]
  },
  {
   "cell_type": "code",
   "execution_count": 5,
   "metadata": {},
   "outputs": [
    {
     "data": {
      "text/plain": [
       "(Base.OneTo(12),)"
      ]
     },
     "execution_count": 5,
     "metadata": {},
     "output_type": "execute_result"
    }
   ],
   "source": [
    "axes(x)"
   ]
  },
  {
   "cell_type": "code",
   "execution_count": 6,
   "metadata": {},
   "outputs": [
    {
     "data": {
      "text/plain": [
       "3×4 Matrix{Int64}:\n",
       " 0  1   2   3\n",
       " 4  5   6   7\n",
       " 8  9  10  11"
      ]
     },
     "execution_count": 6,
     "metadata": {},
     "output_type": "execute_result"
    }
   ],
   "source": [
    "X = copy(reshape(x, (4,3))')\n"
   ]
  },
  {
   "cell_type": "code",
   "execution_count": 56,
   "metadata": {},
   "outputs": [
    {
     "data": {
      "text/plain": [
       "3×4×2 Array{Float64, 3}:\n",
       "[:, :, 1] =\n",
       " 0.0  0.0  0.0  0.0\n",
       " 0.0  0.0  0.0  0.0\n",
       " 0.0  0.0  0.0  0.0\n",
       "\n",
       "[:, :, 2] =\n",
       " 0.0  0.0  0.0  0.0\n",
       " 0.0  0.0  0.0  0.0\n",
       " 0.0  0.0  0.0  0.0"
      ]
     },
     "execution_count": 56,
     "metadata": {},
     "output_type": "execute_result"
    }
   ],
   "source": [
    "# zeros(rows, cols, dims)\n",
    "z = zeros(3,4,2)"
   ]
  },
  {
   "cell_type": "code",
   "execution_count": 61,
   "metadata": {},
   "outputs": [
    {
     "data": {
      "text/plain": [
       "3×4×2 Array{Float64, 3}:\n",
       "[:, :, 1] =\n",
       " 1.0  1.0  1.0  1.0\n",
       " 1.0  1.0  1.0  1.0\n",
       " 1.0  1.0  1.0  1.0\n",
       "\n",
       "[:, :, 2] =\n",
       " 1.0  1.0  1.0  1.0\n",
       " 1.0  1.0  1.0  1.0\n",
       " 1.0  1.0  1.0  1.0"
      ]
     },
     "execution_count": 61,
     "metadata": {},
     "output_type": "execute_result"
    }
   ],
   "source": [
    "o = ones(3,4,2)"
   ]
  },
  {
   "cell_type": "code",
   "execution_count": 73,
   "metadata": {},
   "outputs": [
    {
     "data": {
      "text/plain": [
       "3×4 Matrix{Float64}:\n",
       "  0.312994  -0.992285   0.988426  -1.25722\n",
       " -0.442391  -1.10704   -0.697243  -1.9103\n",
       " -2.06282    0.816855   0.854017   0.81759"
      ]
     },
     "execution_count": 73,
     "metadata": {},
     "output_type": "execute_result"
    }
   ],
   "source": [
    "using Distributions\n",
    "n = Normal(0, 1)\n",
    "r = rand(n, (3,4))"
   ]
  },
  {
   "cell_type": "code",
   "execution_count": 102,
   "metadata": {},
   "outputs": [
    {
     "data": {
      "text/plain": [
       "3×4 Matrix{Int64}:\n",
       " 2  1  4  3\n",
       " 1  2  3  4\n",
       " 4  3  2  1"
      ]
     },
     "execution_count": 102,
     "metadata": {},
     "output_type": "execute_result"
    }
   ],
   "source": [
    "A = [2 1 4 3; 1 2 3 4; 4 3 2 1]"
   ]
  },
  {
   "cell_type": "markdown",
   "metadata": {},
   "source": [
    "### Element-wise operation\n",
    "\n",
    "Note that every element-wise operation has to include the \"dot\"-notation."
   ]
  },
  {
   "cell_type": "code",
   "execution_count": 82,
   "metadata": {},
   "outputs": [
    {
     "name": "stdout",
     "output_type": "stream",
     "text": [
      "x .+ y = [3, 4, 6, 10]\n",
      "x .- y = [-1, 0, 2, 6]\n",
      "x .* y = [2, 4, 8, 16]\n",
      "x ./ y = [0.5, 1.0, 2.0, 4.0]\n",
      "x .^ y = [1, 4, 16, 64]\n"
     ]
    },
    {
     "data": {
      "text/plain": [
       "4-element Vector{Int64}:\n",
       "  1\n",
       "  4\n",
       " 16\n",
       " 64"
      ]
     },
     "execution_count": 82,
     "metadata": {},
     "output_type": "execute_result"
    }
   ],
   "source": [
    "x = [1, 2, 4, 8]\n",
    "y = [2, 2, 2, 2]\n",
    "\n",
    "@show x .+ y\n",
    "@show x .- y\n",
    "@show x .* y\n",
    "@show x ./ y # standard output-type is Float64\n",
    "@show x .^ y"
   ]
  },
  {
   "cell_type": "code",
   "execution_count": 213,
   "metadata": {},
   "outputs": [
    {
     "data": {
      "text/plain": [
       "3×8 Matrix{Int64}:\n",
       " 0  1   2   3  2  1  4  3\n",
       " 4  5   6   7  1  2  3  4\n",
       " 8  9  10  11  4  3  2  1"
      ]
     },
     "execution_count": 213,
     "metadata": {},
     "output_type": "execute_result"
    }
   ],
   "source": [
    "Xx = copy(reshape(Vector(0:11), (4,3))')\n",
    "Yy = [2 1 4 3; 1 2 3 4; 4 3 2 1]\n",
    "\n",
    "X1 = vcat(Xx, Yy) # vertical concat, stacking matrices on top of each other \n",
    "X2 = hcat(Xx, Yy) # horizontal concat, stacking matrices next to each other, from left -> right"
   ]
  },
  {
   "cell_type": "code",
   "execution_count": 164,
   "metadata": {},
   "outputs": [
    {
     "data": {
      "text/plain": [
       "3×4 BitMatrix:\n",
       " 0  1  0  1\n",
       " 0  0  0  0\n",
       " 0  0  0  0"
      ]
     },
     "execution_count": 164,
     "metadata": {},
     "output_type": "execute_result"
    }
   ],
   "source": [
    "Xx .== Yy # dot-notation again because of element-wise operation!\n",
    "          # note that this creates a BitMatrix, basically consisting of true and false values"
   ]
  },
  {
   "cell_type": "code",
   "execution_count": 147,
   "metadata": {},
   "outputs": [
    {
     "data": {
      "text/plain": [
       "66"
      ]
     },
     "execution_count": 147,
     "metadata": {},
     "output_type": "execute_result"
    }
   ],
   "source": [
    "sum(Xx)"
   ]
  },
  {
   "cell_type": "code",
   "execution_count": 160,
   "metadata": {},
   "outputs": [
    {
     "data": {
      "text/plain": [
       "3×2 Matrix{Int64}:\n",
       " 0  1\n",
       " 1  2\n",
       " 2  3"
      ]
     },
     "execution_count": 160,
     "metadata": {},
     "output_type": "execute_result"
    }
   ],
   "source": [
    "a = Vector(0:2)\n",
    "b = copy(transpose(Vector(0:1)))\n",
    "\n",
    "a .+ b"
   ]
  },
  {
   "cell_type": "code",
   "execution_count": 184,
   "metadata": {},
   "outputs": [
    {
     "data": {
      "text/plain": [
       "2×4 Matrix{Int64}:\n",
       " 4  5   6   7\n",
       " 8  9  10  11"
      ]
     },
     "execution_count": 184,
     "metadata": {},
     "output_type": "execute_result"
    }
   ],
   "source": [
    "Xx[end, : ] # last row, all columns\n",
    "Xx[2:3, : ] # 2 & 3 row, all columns"
   ]
  },
  {
   "cell_type": "code",
   "execution_count": 215,
   "metadata": {},
   "outputs": [
    {
     "data": {
      "text/plain": [
       "3×4 Matrix{Int64}:\n",
       " 0  1   2   3\n",
       " 4  5   9   7\n",
       " 8  9  10  11"
      ]
     },
     "execution_count": 215,
     "metadata": {},
     "output_type": "execute_result"
    }
   ],
   "source": [
    "Xx1 = deepcopy(Xx)\n",
    "Xx1[2,3] = 9\n",
    "Xx1"
   ]
  },
  {
   "cell_type": "code",
   "execution_count": null,
   "metadata": {},
   "outputs": [],
   "source": []
  }
 ],
 "metadata": {
  "kernelspec": {
   "display_name": "Julia 1.7.1",
   "language": "julia",
   "name": "julia-1.7"
  },
  "language_info": {
   "file_extension": ".jl",
   "mimetype": "application/julia",
   "name": "julia",
   "version": "1.7.1"
  },
  "orig_nbformat": 4
 },
 "nbformat": 4,
 "nbformat_minor": 2
}
